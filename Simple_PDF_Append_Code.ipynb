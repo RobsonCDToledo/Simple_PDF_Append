{
  "nbformat": 4,
  "nbformat_minor": 0,
  "metadata": {
    "colab": {
      "provenance": [],
      "authorship_tag": "ABX9TyNuO/HgnYqgrSKTIJPePtXa",
      "include_colab_link": true
    },
    "kernelspec": {
      "name": "python3",
      "display_name": "Python 3"
    },
    "language_info": {
      "name": "python"
    }
  },
  "cells": [
    {
      "cell_type": "markdown",
      "metadata": {
        "id": "view-in-github",
        "colab_type": "text"
      },
      "source": [
        "<a href=\"https://colab.research.google.com/github/RobsonCDToledo/Simple_PDF_Append/blob/main/Simple_PDF_Append_Code.ipynb\" target=\"_parent\"><img src=\"https://colab.research.google.com/assets/colab-badge.svg\" alt=\"Open In Colab\"/></a>"
      ]
    },
    {
      "cell_type": "code",
      "source": [
        "import os\n",
        "import PyPDF as pdf\n",
        "from glob import glob\n",
        "\n",
        "\n",
        "def concat_pdf(caminho):\n",
        "\n",
        "    os.chdir(caminho)\n",
        "    archive = glob('*.pdf')\n",
        "    destino = r'concat_pdf\\concat.pdf'\n",
        "\n",
        "    if not os.path.exists('concat'):\n",
        "        os.makedirs('r.\\concat')\n",
        "        print('Diretório de destino criado\\nProsseguindo...')\n",
        "    else:\n",
        "        print('Diretório de destino já existente!!\\nProsseguindo...')\n",
        "    try:\n",
        "        pdfwriter = pdf.PdfFileWriter()\n",
        "\n",
        "        for j in range(0, len(archive)):\n",
        "            pdfdoc = open(archive[j], 'rb')\n",
        "            pdfreader = pdf.PdfFileReader(pdfdoc)\n",
        "\n",
        "            for k in range(0, pdfreader.numpages):\n",
        "                page = pdfreader.getpage(k)\n",
        "                pdfwriter.addpage(page)\n",
        "\n",
        "            pdfresultado = open(destino, 'ab')\n",
        "            pdfwriter.write(pdfresultado)\n",
        "\n",
        "            pdfdoc.close()\n",
        "            pdfresultado.close()\n",
        "    except Exception as exc:\n",
        "        print('Administrador: Verificar existência de exceções')\n",
        "        return str(exc)\n",
        "\n",
        "    print(f'Arquivo gerado em:\\n{os.getcwd()}\\{destino}')\n",
        "    return f'Arquivo gerado em:\\n{os.getcwd()}\\{destino}'\n",
        "\n",
        "\n",
        "def main():\n",
        "    caminho = r'D:\\00 - Projetos VScode\\00 - Keylogger Py\\teste'\n",
        "    response = concat_pdf(caminho)\n",
        "\n",
        "\n",
        "main()\n"
      ],
      "metadata": {
        "id": "c-iC_RbhHpuT"
      },
      "execution_count": null,
      "outputs": []
    }
  ]
}